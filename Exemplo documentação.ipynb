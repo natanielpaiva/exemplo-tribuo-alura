{
 "cells": [
  {
   "cell_type": "markdown",
   "id": "15713a7b-9f35-481f-af93-e2cb30cc6e61",
   "metadata": {},
   "source": [
    "<h1 style='color: green; font-size: 36px; font-weight: bold;'>Exemplo de uso do Tribuo</h1>"
   ]
  },
  {
   "cell_type": "markdown",
   "id": "c615312c-e861-4d91-9d8f-1baffe7468c5",
   "metadata": {},
   "source": [
    "# <font color='red' style='font-size: 30px;'>Baixar a lib do Tribuo</font>\n",
    "<hr style='border: 2px solid red;'>"
   ]
  },
  {
   "cell_type": "code",
   "execution_count": 1,
   "id": "9d68c945-3b85-4453-959e-9841c9f3e30b",
   "metadata": {},
   "outputs": [],
   "source": [
    "%%loadFromPOM\n",
    "<dependency>\n",
    "<groupId>org.tribuo</groupId>\n",
    "<artifactId>tribuo-all</artifactId>\n",
    "<version>4.3.1</version>\n",
    "<type>pom</type>\n",
    "</dependency>"
   ]
  },
  {
   "cell_type": "markdown",
   "id": "cc4f9b9a-7be9-43e8-beab-f6fb4cdc4a80",
   "metadata": {},
   "source": [
    "# <font color='black' style='font-size: 20px;'>Imports para manipular arquivos</font>\n",
    "<hr style='border: 2px solid black;'>"
   ]
  },
  {
   "cell_type": "code",
   "execution_count": 2,
   "id": "ffe2be38-00fd-46af-b072-1c09566650ff",
   "metadata": {},
   "outputs": [],
   "source": [
    "import java.nio.file.Path;\n",
    "import java.nio.file.Paths;"
   ]
  },
  {
   "cell_type": "markdown",
   "id": "9c6420a8-d6d9-4fdc-b8d7-5e9b94b70522",
   "metadata": {},
   "source": [
    "# <font color='black' style='font-size: 20px;'>Imports para o uso do Tribuo</font>\n",
    "<hr style='border: 2px solid black;'>"
   ]
  },
  {
   "cell_type": "code",
   "execution_count": 3,
   "id": "b2ed0242-edec-4f44-aba4-f96eff7d881f",
   "metadata": {},
   "outputs": [],
   "source": [
    "import org.tribuo.*;\n",
    "import org.tribuo.data.csv.CSVLoader;\n",
    "import org.tribuo.datasource.ListDataSource;\n",
    "import org.tribuo.evaluation.TrainTestSplitter;\n",
    "import org.tribuo.math.optimisers.*;\n",
    "import org.tribuo.regression.*;\n",
    "import org.tribuo.regression.evaluation.*;\n",
    "import org.tribuo.regression.sgd.RegressionObjective;\n",
    "import org.tribuo.regression.sgd.linear.LinearSGDTrainer;\n",
    "import org.tribuo.regression.sgd.objectives.SquaredLoss;\n",
    "import org.tribuo.regression.rtree.CARTRegressionTrainer;\n",
    "import org.tribuo.regression.xgboost.XGBoostRegressionTrainer;\n",
    "import org.tribuo.util.Util;"
   ]
  },
  {
   "cell_type": "markdown",
   "id": "3b659896-9d4f-4ed7-949c-08781e40e7dc",
   "metadata": {},
   "source": [
    "# <font color='black' style='font-size: 20px;'>Criar instância do regressionFactory e csv Loader para ler o arquivo CSV</font>\n",
    "<hr style='border: 2px solid black;'>"
   ]
  },
  {
   "cell_type": "code",
   "execution_count": 4,
   "id": "f43be05d-d4e8-4beb-b10f-15e6ddb50e13",
   "metadata": {},
   "outputs": [],
   "source": [
    "var regressionFactory = new RegressionFactory();\n",
    "var csvLoader = new CSVLoader<>(';',regressionFactory);"
   ]
  },
  {
   "cell_type": "markdown",
   "id": "ea38db3a-f4b2-4711-a909-6caf743ef32a",
   "metadata": {},
   "source": [
    "# <font color='black' style='font-size: 20px;'>Carregar dados de um arquivo CSV, divide-os em conjuntos de treino e teste, e prepara esses dados para treinar e avaliar um modelo de regressão.</font>\n",
    "<hr style='border: 2px solid black;'>"
   ]
  },
  {
   "cell_type": "code",
   "execution_count": 5,
   "id": "411df5fb-701c-40f0-9e21-a68adff86222",
   "metadata": {},
   "outputs": [],
   "source": [
    "var wineSource = csvLoader.loadDataSource(Paths.get(\"tribuo_alura/winequality-red.csv\"),\"quality\");\n",
    "var splitter = new TrainTestSplitter<>(wineSource, 0.7f, 0L);\n",
    "Dataset<Regressor> trainData = new MutableDataset<>(splitter.getTrain());\n",
    "Dataset<Regressor> evalData = new MutableDataset<>(splitter.getTest());"
   ]
  },
  {
   "cell_type": "markdown",
   "id": "6f37bd8d-3b79-4e1f-9080-d12958afe80d",
   "metadata": {},
   "source": [
    "<p color='black' style='font-size: 20px;'>Realizar a extração e exibição de informações sobre as dimensões do primeiro exemplo de saída de um modelo de regressão. O código exibe o número de dimensões, o nome e o valor da primeira dimensão, além de acessar e imprimir tuplas específicas das dimensões com base no nome e no índice fornecidos.</p>"
   ]
  },
  {
   "cell_type": "code",
   "execution_count": 6,
   "id": "29f30ee8-2e5f-4c0e-b859-018e699144fd",
   "metadata": {},
   "outputs": [
    {
     "name": "stdout",
     "output_type": "stream",
     "text": [
      "Num dimensions = 1\n",
      "Dimension name: DIM-0\n",
      "Dimension value: 6.0\n",
      "Tuple = [DIM-0=6.0]\n",
      "Regressor[0] = DIM-0=6.0\n"
     ]
    }
   ],
   "source": [
    "Regressor r = trainData.getExample(0).getOutput();\n",
    "System.out.println(\"Num dimensions = \" + r.size());\n",
    "\n",
    "String[] dimNames = r.getNames();\n",
    "System.out.println(\"Dimension name: \" + dimNames[0]);\n",
    "\n",
    "double[] regressedValues = r.getValues();\n",
    "System.out.println(\"Dimension value: \" + regressedValues[0]);\n",
    "\n",
    "// getDimension(String) returns an Optional<DimensionTuple>\n",
    "Regressor.DimensionTuple tuple = r.getDimension(\"DIM-0\").get();\n",
    "System.out.println(\"Tuple = [\" + tuple +\"]\");\n",
    "\n",
    "// getDimension(int) throws IndexOutOfBoundsException if you give it a negative index\n",
    "// or one greater than or equal to r.size()\n",
    "Regressor.DimensionTuple tupleI = r.getDimension(0);\n",
    "System.out.println(\"Regressor[0] = \" + tupleI);"
   ]
  },
  {
   "cell_type": "markdown",
   "id": "72d62ecf-ddcb-4839-b3f5-b6cb249d7449",
   "metadata": {},
   "source": [
    "<p style='font-size: 20px;'>\n",
    "Realizar o treinamento de um modelo de regressão e avaliar seu desempenho no conjunto de dados de treinamento. </p>"
   ]
  },
  {
   "cell_type": "code",
   "execution_count": 7,
   "id": "3da3128c-9458-497a-9774-19ca7463877e",
   "metadata": {},
   "outputs": [],
   "source": [
    "public Model<Regressor> train(String name, Trainer<Regressor> trainer, Dataset<Regressor> trainData) {\n",
    "    // Train the model\n",
    "    var startTime = System.currentTimeMillis();\n",
    "    Model<Regressor> model = trainer.train(trainData);\n",
    "    var endTime = System.currentTimeMillis();\n",
    "    System.out.println(\"Training \" + name + \" took \" + Util.formatDuration(startTime,endTime));\n",
    "    // Evaluate the model on the training data\n",
    "    // This is a useful debugging tool to check the model actually learned something\n",
    "    RegressionEvaluator eval = new RegressionEvaluator();\n",
    "    var evaluation = eval.evaluate(model,trainData);\n",
    "    // We create a dimension here to aid pulling out the appropriate statistics.\n",
    "    // You can also produce the String directly by calling \"evaluation.toString()\"\n",
    "    var dimension = new Regressor(\"DIM-0\",Double.NaN);\n",
    "    System.out.printf(\"Evaluation (train):%n  RMSE %f%n  MAE %f%n  R^2 %f%n\",\n",
    "            evaluation.rmse(dimension), evaluation.mae(dimension), evaluation.r2(dimension));\n",
    "    return model;\n",
    "}"
   ]
  },
  {
   "cell_type": "markdown",
   "id": "bb7ef7a2-4815-4ebe-9162-69d9d24a611e",
   "metadata": {},
   "source": [
    "<p style='font-size: 20px;'>Realizar a avaliação de um modelo de regressão utilizando dados de teste.</p>"
   ]
  },
  {
   "cell_type": "code",
   "execution_count": 8,
   "id": "4bde1146-73a0-43a2-bcd6-62a1b6d11260",
   "metadata": {},
   "outputs": [],
   "source": [
    "public void evaluate(Model<Regressor> model, Dataset<Regressor> testData) {\n",
    "    // Evaluate the model on the test data\n",
    "    RegressionEvaluator eval = new RegressionEvaluator();\n",
    "    var evaluation = eval.evaluate(model,testData);\n",
    "    // We create a dimension here to aid pulling out the appropriate statistics.\n",
    "    // You can also produce the String directly by calling \"evaluation.toString()\"\n",
    "    var dimension = new Regressor(\"DIM-0\",Double.NaN);\n",
    "    System.out.printf(\"Evaluation (test):%n  RMSE %f%n  MAE %f%n  R^2 %f%n\",\n",
    "            evaluation.rmse(dimension), evaluation.mae(dimension), evaluation.r2(dimension));\n",
    "}"
   ]
  },
  {
   "cell_type": "markdown",
   "id": "72a5190d-e52d-4bcb-8aaa-673128a8152f",
   "metadata": {},
   "source": [
    "<p style='font-size: 20px;'>Configurar diferentes algoritmos de treinamento para modelos de regressão linear.</p>"
   ]
  },
  {
   "cell_type": "code",
   "execution_count": 9,
   "id": "4e0a561e-dd10-4f1c-88e4-4f6693149052",
   "metadata": {},
   "outputs": [],
   "source": [
    "var lrsgd = new LinearSGDTrainer(\n",
    "    new SquaredLoss(), // loss function\n",
    "    SGD.getLinearDecaySGD(0.01), // gradient descent algorithm\n",
    "    10,                // number of training epochs\n",
    "    trainData.size()/4,// logging interval\n",
    "    1,                 // minibatch size\n",
    "    1L                 // RNG seed\n",
    ");\n",
    "var lrada = new LinearSGDTrainer(\n",
    "    new SquaredLoss(),\n",
    "    new AdaGrad(0.01),\n",
    "    10,\n",
    "    trainData.size()/4,\n",
    "    1,\n",
    "    1L \n",
    ");\n",
    "var cart = new CARTRegressionTrainer(6);\n",
    "var xgb = new XGBoostRegressionTrainer(50);"
   ]
  },
  {
   "cell_type": "markdown",
   "id": "32bb7a61-d394-499f-bc80-18565be90551",
   "metadata": {},
   "source": [
    "<p style='font-size: 20px;'>Treinar um modelo de regressão linear utilizando o treinador lrsgd e o conjunto de dados de treinamento trainData.</p>"
   ]
  },
  {
   "cell_type": "code",
   "execution_count": 10,
   "id": "519f91d7-84e2-4660-83ce-828c4ada7004",
   "metadata": {},
   "outputs": [
    {
     "name": "stdout",
     "output_type": "stream",
     "text": [
      "Training Linear Regression (SGD) took (00:00:00:056)\n",
      "Evaluation (train):\n",
      "  RMSE 0.979522\n",
      "  MAE 0.741870\n",
      "  R^2 -0.471611\n"
     ]
    }
   ],
   "source": [
    "var lrsgdModel = train(\"Linear Regression (SGD)\",lrsgd,trainData);\n"
   ]
  },
  {
   "cell_type": "code",
   "execution_count": 11,
   "id": "20349320-fd79-4e9b-9fd6-72faf211ecbf",
   "metadata": {},
   "outputs": [
    {
     "name": "stdout",
     "output_type": "stream",
     "text": [
      "Evaluation (test):\n",
      "  RMSE 0.967450\n",
      "  MAE 0.720619\n",
      "  R^2 -0.439255\n"
     ]
    }
   ],
   "source": [
    "evaluate(lrsgdModel,evalData);"
   ]
  },
  {
   "cell_type": "code",
   "execution_count": 12,
   "id": "b631a572-fd29-40a7-934e-f3bc3b3403c2",
   "metadata": {},
   "outputs": [
    {
     "name": "stdout",
     "output_type": "stream",
     "text": [
      "Training Linear Regression (AdaGrad) took (00:00:00:032)\n",
      "Evaluation (train):\n",
      "  RMSE 0.735311\n",
      "  MAE 0.575096\n",
      "  R^2 0.170709\n",
      "Evaluation (test):\n",
      "  RMSE 0.737994\n",
      "  MAE 0.585709\n",
      "  R^2 0.162497\n"
     ]
    }
   ],
   "source": [
    "var lradaModel = train(\"Linear Regression (AdaGrad)\",lrada,trainData);\n",
    "evaluate(lradaModel,evalData);"
   ]
  },
  {
   "cell_type": "code",
   "execution_count": 20,
   "id": "9d0ce59c-0b69-4f91-906e-d731248d2fe2",
   "metadata": {},
   "outputs": [
    {
     "name": "stdout",
     "output_type": "stream",
     "text": [
      "Training CART took (00:00:00:075)\n",
      "Evaluation (train):\n",
      "  RMSE 0.544516\n",
      "  MAE 0.405062\n",
      "  R^2 0.545236\n",
      "Evaluation (test):\n",
      "  RMSE 0.658722\n",
      "  MAE 0.494395\n",
      "  R^2 0.332754\n"
     ]
    }
   ],
   "source": [
    "var cartModel = train(\"CART\",cart,trainData);\n",
    "evaluate(cartModel,evalData);"
   ]
  },
  {
   "cell_type": "markdown",
   "id": "ef24f3ad-b45c-42ce-883e-e0b068c916ac",
   "metadata": {},
   "source": [
    "RMSE (Erro Quadrático Médio)\n",
    "\n",
    "RMSE 0.544516: Indica a média dos erros ao quadrado entre as previsões do modelo e os valores observados nos dados de treinamento. Um valor menor de RMSE indica um melhor ajuste. Esse valor reflete o quão distantes estão as previsões do modelo dos valores reais.\n",
    "MAE (Erro Absoluto Médio)\n",
    "\n",
    "MAE 0.405062: Indica a média dos valores absolutos dos erros entre as previsões do modelo e os valores reais nos dados de treinamento. Assim como o RMSE, valores menores de MAE indicam um melhor ajuste. A diferença é que o MAE não penaliza grandes erros tanto quanto o RMSE.\n",
    "R² (Coeficiente de Determinação)\n",
    "\n",
    "R^2 0.545236: Indica a proporção da variância nos dados de treinamento que é explicada pelo modelo. O valor de R² varia de 0 a 1 (podendo ser negativo), onde 1 indica um modelo perfeito. Um valor de 0.545236 significa que cerca de 54,5% da variabilidade dos dados de treinamento é explicada pelo modelo. Valores mais próximos de 1 indicam um bom ajuste, enquanto valores negativos indicam que o modelo é pior do que simplesmente usar a média dos dados.\n"
   ]
  },
  {
   "cell_type": "markdown",
   "id": "ecfc8d77-69b6-435f-a862-58f2379f546e",
   "metadata": {},
   "source": [
    "O modelo CART treinado conseguiu capturar alguma informação útil dos dados (R² acima de 0,5 nos dados de treinamento), mas seu desempenho caiu consideravelmente nos dados de teste. Isso indica que o modelo pode não estar generalizando bem para novos dados. Para melhorar, você pode considerar:\n",
    "\n",
    "Ajustar hiperparâmetros do modelo.\n",
    "Aumentar o número de amostras no conjunto de dados de treinamento.\n",
    "Usar técnicas de regularização para evitar overfitting.\n",
    "Testar outros modelos, como Random Forest ou XGBoost."
   ]
  },
  {
   "cell_type": "code",
   "execution_count": null,
   "id": "52040f7d-d01c-4ac6-bf9c-888d9d15e423",
   "metadata": {},
   "outputs": [],
   "source": []
  }
 ],
 "metadata": {
  "kernelspec": {
   "display_name": "Java",
   "language": "java",
   "name": "java"
  },
  "language_info": {
   "codemirror_mode": "java",
   "file_extension": ".jshell",
   "mimetype": "text/x-java-source",
   "name": "Java",
   "pygments_lexer": "java",
   "version": "22.0.2+9-70"
  }
 },
 "nbformat": 4,
 "nbformat_minor": 5
}
